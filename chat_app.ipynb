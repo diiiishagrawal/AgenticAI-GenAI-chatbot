{
 "cells": [
  {
   "cell_type": "code",
   "execution_count": 1,
   "id": "b9475003-7bd8-484d-9e7e-289b95fb1589",
   "metadata": {},
   "outputs": [],
   "source": [
    "#1.building a simple chatbot without llm"
   ]
  },
  {
   "cell_type": "code",
   "execution_count": 2,
   "id": "cca73516-7fa0-4130-afb9-205fb32adb8b",
   "metadata": {},
   "outputs": [
    {
     "name": "stdin",
     "output_type": "stream",
     "text": [
      "you:  hey\n"
     ]
    },
    {
     "name": "stdout",
     "output_type": "stream",
     "text": [
      "chatbot: I am just a chatbot\n"
     ]
    },
    {
     "name": "stdin",
     "output_type": "stream",
     "text": [
      "you:  exit\n"
     ]
    },
    {
     "name": "stdout",
     "output_type": "stream",
     "text": [
      "goodbye\n"
     ]
    }
   ],
   "source": [
    "while True:\n",
    "    user_input= input(\"you: \")\n",
    "    #to end the chat\n",
    "    if user_input.lower()==\"exit\":\n",
    "        print(\"goodbye\")\n",
    "        break\n",
    "    print(\"chatbot: I am just a chatbot\")\n",
    "    #.lower is used so even if any message in capital its converted to small then action taken "
   ]
  },
  {
   "cell_type": "code",
   "execution_count": 3,
   "id": "0f759adf-55e2-4c2c-8251-c1e83ce0b82d",
   "metadata": {},
   "outputs": [],
   "source": [
    "#2.CHATBOT USING GENAI"
   ]
  },
  {
   "cell_type": "code",
   "execution_count": 4,
   "id": "a128053c-8a83-412a-a0a5-b26005cbff93",
   "metadata": {},
   "outputs": [],
   "source": [
    "#GEN AI IS AI SYSTEM THAT CAN CREATE NEW CONTENT SUCH AS TEXT,IMAGES,MUSIC,ETC. LLM UNDERSTANDS TEXTDATA"
   ]
  },
  {
   "cell_type": "code",
   "execution_count": 5,
   "id": "8c763e01-0415-42d1-b79a-0f90bb941ae0",
   "metadata": {},
   "outputs": [
    {
     "name": "stdout",
     "output_type": "stream",
     "text": [
      "Requirement already satisfied: google-genai in c:\\users\\hp\\anaconda3\\lib\\site-packages (1.28.0)Note: you may need to restart the kernel to use updated packages.\n",
      "\n",
      "Requirement already satisfied: anyio<5.0.0,>=4.8.0 in c:\\users\\hp\\anaconda3\\lib\\site-packages (from google-genai) (4.9.0)\n",
      "Requirement already satisfied: google-auth<3.0.0,>=2.14.1 in c:\\users\\hp\\anaconda3\\lib\\site-packages (from google-genai) (2.40.3)\n",
      "Requirement already satisfied: httpx<1.0.0,>=0.28.1 in c:\\users\\hp\\anaconda3\\lib\\site-packages (from google-genai) (0.28.1)\n",
      "Requirement already satisfied: pydantic<3.0.0,>=2.0.0 in c:\\users\\hp\\anaconda3\\lib\\site-packages (from google-genai) (2.8.2)\n",
      "Requirement already satisfied: requests<3.0.0,>=2.28.1 in c:\\users\\hp\\anaconda3\\lib\\site-packages (from google-genai) (2.32.3)\n",
      "Requirement already satisfied: tenacity<9.0.0,>=8.2.3 in c:\\users\\hp\\anaconda3\\lib\\site-packages (from google-genai) (8.2.3)\n",
      "Requirement already satisfied: websockets<15.1.0,>=13.0.0 in c:\\users\\hp\\anaconda3\\lib\\site-packages (from google-genai) (15.0.1)\n",
      "Requirement already satisfied: typing-extensions<5.0.0,>=4.11.0 in c:\\users\\hp\\anaconda3\\lib\\site-packages (from google-genai) (4.11.0)\n",
      "Requirement already satisfied: idna>=2.8 in c:\\users\\hp\\anaconda3\\lib\\site-packages (from anyio<5.0.0,>=4.8.0->google-genai) (3.7)\n",
      "Requirement already satisfied: sniffio>=1.1 in c:\\users\\hp\\anaconda3\\lib\\site-packages (from anyio<5.0.0,>=4.8.0->google-genai) (1.3.0)\n",
      "Requirement already satisfied: cachetools<6.0,>=2.0.0 in c:\\users\\hp\\anaconda3\\lib\\site-packages (from google-auth<3.0.0,>=2.14.1->google-genai) (5.3.3)\n",
      "Requirement already satisfied: pyasn1-modules>=0.2.1 in c:\\users\\hp\\anaconda3\\lib\\site-packages (from google-auth<3.0.0,>=2.14.1->google-genai) (0.2.8)\n",
      "Requirement already satisfied: rsa<5,>=3.1.4 in c:\\users\\hp\\anaconda3\\lib\\site-packages (from google-auth<3.0.0,>=2.14.1->google-genai) (4.9.1)\n",
      "Requirement already satisfied: certifi in c:\\users\\hp\\anaconda3\\lib\\site-packages (from httpx<1.0.0,>=0.28.1->google-genai) (2025.1.31)\n",
      "Requirement already satisfied: httpcore==1.* in c:\\users\\hp\\anaconda3\\lib\\site-packages (from httpx<1.0.0,>=0.28.1->google-genai) (1.0.2)\n",
      "Requirement already satisfied: h11<0.15,>=0.13 in c:\\users\\hp\\anaconda3\\lib\\site-packages (from httpcore==1.*->httpx<1.0.0,>=0.28.1->google-genai) (0.14.0)\n",
      "Requirement already satisfied: annotated-types>=0.4.0 in c:\\users\\hp\\anaconda3\\lib\\site-packages (from pydantic<3.0.0,>=2.0.0->google-genai) (0.6.0)\n",
      "Requirement already satisfied: pydantic-core==2.20.1 in c:\\users\\hp\\anaconda3\\lib\\site-packages (from pydantic<3.0.0,>=2.0.0->google-genai) (2.20.1)\n",
      "Requirement already satisfied: charset-normalizer<4,>=2 in c:\\users\\hp\\anaconda3\\lib\\site-packages (from requests<3.0.0,>=2.28.1->google-genai) (3.3.2)\n",
      "Requirement already satisfied: urllib3<3,>=1.21.1 in c:\\users\\hp\\anaconda3\\lib\\site-packages (from requests<3.0.0,>=2.28.1->google-genai) (2.2.3)\n",
      "Requirement already satisfied: pyasn1<0.5.0,>=0.4.6 in c:\\users\\hp\\anaconda3\\lib\\site-packages (from pyasn1-modules>=0.2.1->google-auth<3.0.0,>=2.14.1->google-genai) (0.4.8)\n"
     ]
    }
   ],
   "source": [
    "pip install google-genai"
   ]
  },
  {
   "cell_type": "code",
   "execution_count": 6,
   "id": "54437bda-921b-4634-9db1-4dd0a60ab22a",
   "metadata": {},
   "outputs": [
    {
     "name": "stdin",
     "output_type": "stream",
     "text": [
      "enter your key ········\n"
     ]
    }
   ],
   "source": [
    "#to hide gemini api key so others cant use it\n",
    "from getpass import getpass\n",
    "gemini_key = getpass(\"enter your key\")\n",
    "#getpass used to hide any data"
   ]
  },
  {
   "cell_type": "code",
   "execution_count": 7,
   "id": "2b2d6139-f394-4584-9575-8740c8af2b50",
   "metadata": {},
   "outputs": [
    {
     "name": "stdout",
     "output_type": "stream",
     "text": [
      "Here's how AI works in a few words:\n",
      "\n",
      "*   **Learns from Data:** AI takes in vast amounts of information (text, images, numbers).\n",
      "*   **Finds Patterns:** Algorithms analyze this data to identify trends, relationships, and structures.\n",
      "*   **Builds a Model:** It creates an internal \"model\" or understanding based on these learned patterns.\n",
      "*   **Makes Predictions/Decisions:** This model is then used to process new, unseen data.\n",
      "*   **Generates Outputs:** AI applies its \"learning\" to perform tasks, answer questions, or create content.\n"
     ]
    }
   ],
   "source": [
    "from google import genai\n",
    "\n",
    "client = genai.Client(api_key=gemini_key)\n",
    "\n",
    "\n",
    "response = client.models.generate_content(\n",
    "    model=\"gemini-2.5-flash\",\n",
    "    contents=\"Explain how AI works in a few words. make use of 5 bullets\",#this contents are prompt\n",
    ")\n",
    "\n",
    "print(response.text)#if text not written we get full metadata but text is only the required one"
   ]
  },
  {
   "cell_type": "code",
   "execution_count": 8,
   "id": "742cf0da-1529-4d66-bb24-7df10b367db8",
   "metadata": {},
   "outputs": [
    {
     "name": "stdout",
     "output_type": "stream",
     "text": [
      "Here's a 5-point summary:\n",
      "\n",
      "1.  **Slow Down:** In our fast-paced world, it's easy to forget the value of pausing and slowing down.\n",
      "2.  **Appreciate the Present:** It's crucial to appreciate the current moment rather than constantly moving forward.\n",
      "3.  **Find Meaning in Small Things:** The smallest, most ordinary moments—like a morning coffee or a kind word—often hold the deepest meaning.\n",
      "4.  **Reconnect Through Awareness:** Noticing these simple things allows us to reconnect with ourselves and the world.\n",
      "5.  **Embrace the Journey:** Life isn't just about pursuing goals; it's about finding joy and meaning in the journey and its everyday experiences.\n"
     ]
    }
   ],
   "source": [
    "from google import genai\n",
    "\n",
    "client = genai.Client(api_key=gemini_key)\n",
    "\n",
    "paragraph =\"\"\"\n",
    "\n",
    "In a world that moves at a relentless pace, it's easy to forget the value of slowing down and appreciating the present moment. Whether it’s a quiet morning coffee, a walk under the open sky, or a kind word from a friend, the smallest things often carry the deepest meaning. When we pause to notice them, we reconnect with ourselves and the world around us. Life isn’t just about chasing goals—it’s about finding joy in the journey, even in the ordinary moments that make each day unique.\n",
    "\n",
    "\n",
    "\"\"\"\n",
    "prompt=f\"summarize {paragraph}in 5 points\"\n",
    "response = client.models.generate_content(\n",
    "    model=\"gemini-2.5-flash\",\n",
    "    contents=prompt\n",
    ")\n",
    "\n",
    "print(response.text)"
   ]
  },
  {
   "cell_type": "code",
   "execution_count": 9,
   "id": "3909b323-ff6d-487c-beaf-4f4ca1a6cb55",
   "metadata": {},
   "outputs": [],
   "source": [
    "#using other ai like openai also we can do the same cbut openai is not free"
   ]
  },
  {
   "cell_type": "code",
   "execution_count": 10,
   "id": "0c0c4a35-ae23-4b4f-8008-1901243e9f15",
   "metadata": {},
   "outputs": [
    {
     "name": "stdin",
     "output_type": "stream",
     "text": [
      "you: hey\n"
     ]
    },
    {
     "name": "stdout",
     "output_type": "stream",
     "text": [
      "Gemini:Hey there! What's up?\n",
      "\n"
     ]
    },
    {
     "name": "stdin",
     "output_type": "stream",
     "text": [
      "you: who is salman khan's brother\n"
     ]
    },
    {
     "name": "stdout",
     "output_type": "stream",
     "text": [
      "Gemini:Salman Khan has two younger brothers:\n",
      "\n",
      "1.  **Arbaaz Khan**\n",
      "2.  **Sohail Khan**\n",
      "\n",
      "Both Arbaaz and Sohail are also actors, directors, and producers in the Hindi film industry. They are all sons of the veteran screenwriter Salim Khan.\n",
      "\n"
     ]
    },
    {
     "name": "stdin",
     "output_type": "stream",
     "text": [
      "you: exit\n"
     ]
    },
    {
     "name": "stdout",
     "output_type": "stream",
     "text": [
      "goodbye\n"
     ]
    }
   ],
   "source": [
    "#to get proper feel of chatbot\n",
    "from google import genai\n",
    "\n",
    "client = genai.Client(api_key=gemini_key)\n",
    "while True:\n",
    "    user_input=input(\"you:\")\n",
    "    if user_input.lower()==\"exit\":\n",
    "        print(\"goodbye\")\n",
    "        break\n",
    "    response= client.models.generate_content(\n",
    "        model=\"gemini-2.5-flash\",\n",
    "        contents=user_input,\n",
    "    )\n",
    "    print(f\"Gemini:{response.text}\\n\")"
   ]
  },
  {
   "cell_type": "code",
   "execution_count": 11,
   "id": "f7e1c655-bb65-49bf-a6fd-1b72897d91ae",
   "metadata": {},
   "outputs": [
    {
     "name": "stdin",
     "output_type": "stream",
     "text": [
      "you: anyas age?\n"
     ]
    },
    {
     "name": "stdout",
     "output_type": "stream",
     "text": [
      "gemini:Anaya's age is 27.\n"
     ]
    },
    {
     "name": "stdin",
     "output_type": "stream",
     "text": [
      "you: exit\n"
     ]
    },
    {
     "name": "stdout",
     "output_type": "stream",
     "text": [
      "goodbye\n"
     ]
    }
   ],
   "source": [
    "#adding data manually then asking info about it use ss \n",
    "history=[]\n",
    "character_info = \"\"\"\n",
    "name:anaya\n",
    "age: 27\n",
    "city : pune\n",
    "profession:developer\n",
    "lanuages known:python, cpp\n",
    "\n",
    "\"\"\"\n",
    "history.append(character_info)\n",
    "while True:\n",
    "    user_input=input(\"you:\")\n",
    "    history.append(f\"you:{user_input}\")\n",
    "    \n",
    "    prompt=\"\\n\".join(history) + f\"Gemini:\"\n",
    "    if user_input.lower()==\"exit\":\n",
    "        print(\"goodbye\")\n",
    "        break\n",
    "    response= client.models.generate_content(\n",
    "        model=\"gemini-2.5-flash\",\n",
    "        contents=prompt\n",
    "    )\n",
    "    reply = f\"gemini:{response.text}\"\n",
    "    history.append(reply)\n",
    "    print(reply)\n"
   ]
  },
  {
   "cell_type": "code",
   "execution_count": 12,
   "id": "ac2bbfad-18c1-4815-897b-7a49646a62ce",
   "metadata": {},
   "outputs": [
    {
     "name": "stdin",
     "output_type": "stream",
     "text": [
      "you: who is president of india \n"
     ]
    },
    {
     "name": "stdout",
     "output_type": "stream",
     "text": [
      "gemini:The current President of India is **Droupadi Murmu**.\n",
      "\n"
     ]
    },
    {
     "name": "stdin",
     "output_type": "stream",
     "text": [
      "you: whats his age\n"
     ]
    },
    {
     "name": "stdout",
     "output_type": "stream",
     "text": [
      "gemini:Droupadi Murmu was born on June 20, 1958.\n",
      "\n",
      "As of today, June 7, 2024, she is **65 years old**. She will turn 66 on June 20, 2024.\n",
      "\n"
     ]
    },
    {
     "name": "stdin",
     "output_type": "stream",
     "text": [
      "you: exit\n"
     ]
    },
    {
     "name": "stdout",
     "output_type": "stream",
     "text": [
      "goodbye\n"
     ]
    }
   ],
   "source": [
    "#chatbot with history\n",
    "from google import genai\n",
    "\n",
    "client = genai.Client(api_key=gemini_key)\n",
    "chat_history=[] #to convert chat_history into list instead of storing it in form of strings\n",
    "while True:\n",
    "    user_input=input(\"you:\")\n",
    "    chat_history.append(f\"you:{user_input}\")#user _input appended\n",
    "    \n",
    "    prompt=\"\\n\".join(chat_history) + f\"Gemini:\"\n",
    "    \n",
    "    if user_input.lower()==\"exit\":\n",
    "        print(\"goodbye\")\n",
    "        break\n",
    "        \n",
    "    response= client.models.generate_content(\n",
    "        model=\"gemini-2.5-flash\",\n",
    "        contents=prompt,\n",
    "    )\n",
    "    reply = f\"gemini:{response.text}\\n\"\n",
    "    chat_history.append(reply)#reply of ai for particular user_input also apended\n",
    "    print(reply)\n",
    "\n",
    "#when salman khan name written once, we can then use words like his,her,him too refer to him which couldnt be done earlier"
   ]
  },
  {
   "cell_type": "code",
   "execution_count": 13,
   "id": "55060ace-1ef7-4a76-afc7-02b2e34182d9",
   "metadata": {},
   "outputs": [],
   "source": [
    "# to get a nice interface like gemini we create streamlit application"
   ]
  },
  {
   "cell_type": "code",
   "execution_count": 14,
   "id": "524c1722-b9a1-475c-9862-142aaf8bdc2a",
   "metadata": {},
   "outputs": [
    {
     "name": "stdout",
     "output_type": "stream",
     "text": [
      "Requirement already satisfied: streamlit in c:\\users\\hp\\anaconda3\\lib\\site-packages (1.37.1)\n",
      "Requirement already satisfied: google-genai in c:\\users\\hp\\anaconda3\\lib\\site-packages (1.28.0)\n",
      "Requirement already satisfied: altair<6,>=4.0 in c:\\users\\hp\\anaconda3\\lib\\site-packages (from streamlit) (5.0.1)\n",
      "Requirement already satisfied: blinker<2,>=1.0.0 in c:\\users\\hp\\anaconda3\\lib\\site-packages (from streamlit) (1.6.2)\n",
      "Requirement already satisfied: cachetools<6,>=4.0 in c:\\users\\hp\\anaconda3\\lib\\site-packages (from streamlit) (5.3.3)\n",
      "Requirement already satisfied: click<9,>=7.0 in c:\\users\\hp\\anaconda3\\lib\\site-packages (from streamlit) (8.1.7)\n",
      "Requirement already satisfied: numpy<3,>=1.20 in c:\\users\\hp\\anaconda3\\lib\\site-packages (from streamlit) (1.26.4)\n",
      "Requirement already satisfied: packaging<25,>=20 in c:\\users\\hp\\anaconda3\\lib\\site-packages (from streamlit) (24.1)\n",
      "Requirement already satisfied: pandas<3,>=1.3.0 in c:\\users\\hp\\anaconda3\\lib\\site-packages (from streamlit) (2.2.2)\n",
      "Requirement already satisfied: pillow<11,>=7.1.0 in c:\\users\\hp\\anaconda3\\lib\\site-packages (from streamlit) (10.4.0)\n",
      "Requirement already satisfied: protobuf<6,>=3.20 in c:\\users\\hp\\anaconda3\\lib\\site-packages (from streamlit) (5.29.5)\n",
      "Requirement already satisfied: pyarrow>=7.0 in c:\\users\\hp\\anaconda3\\lib\\site-packages (from streamlit) (16.1.0)\n",
      "Requirement already satisfied: requests<3,>=2.27 in c:\\users\\hp\\anaconda3\\lib\\site-packages (from streamlit) (2.32.3)\n",
      "Requirement already satisfied: rich<14,>=10.14.0 in c:\\users\\hp\\anaconda3\\lib\\site-packages (from streamlit) (13.7.1)\n",
      "Requirement already satisfied: tenacity<9,>=8.1.0 in c:\\users\\hp\\anaconda3\\lib\\site-packages (from streamlit) (8.2.3)\n",
      "Requirement already satisfied: toml<2,>=0.10.1 in c:\\users\\hp\\anaconda3\\lib\\site-packages (from streamlit) (0.10.2)\n",
      "Requirement already satisfied: typing-extensions<5,>=4.3.0 in c:\\users\\hp\\anaconda3\\lib\\site-packages (from streamlit) (4.11.0)\n",
      "Requirement already satisfied: gitpython!=3.1.19,<4,>=3.0.7 in c:\\users\\hp\\anaconda3\\lib\\site-packages (from streamlit) (3.1.43)\n",
      "Requirement already satisfied: pydeck<1,>=0.8.0b4 in c:\\users\\hp\\anaconda3\\lib\\site-packages (from streamlit) (0.8.0)\n",
      "Requirement already satisfied: tornado<7,>=6.0.3 in c:\\users\\hp\\anaconda3\\lib\\site-packages (from streamlit) (6.4.1)\n",
      "Requirement already satisfied: watchdog<5,>=2.1.5 in c:\\users\\hp\\anaconda3\\lib\\site-packages (from streamlit) (4.0.1)\n",
      "Requirement already satisfied: anyio<5.0.0,>=4.8.0 in c:\\users\\hp\\anaconda3\\lib\\site-packages (from google-genai) (4.9.0)\n",
      "Requirement already satisfied: google-auth<3.0.0,>=2.14.1 in c:\\users\\hp\\anaconda3\\lib\\site-packages (from google-genai) (2.40.3)\n",
      "Requirement already satisfied: httpx<1.0.0,>=0.28.1 in c:\\users\\hp\\anaconda3\\lib\\site-packages (from google-genai) (0.28.1)\n",
      "Requirement already satisfied: pydantic<3.0.0,>=2.0.0 in c:\\users\\hp\\anaconda3\\lib\\site-packages (from google-genai) (2.8.2)\n",
      "Requirement already satisfied: websockets<15.1.0,>=13.0.0 in c:\\users\\hp\\anaconda3\\lib\\site-packages (from google-genai) (15.0.1)\n",
      "Requirement already satisfied: jinja2 in c:\\users\\hp\\anaconda3\\lib\\site-packages (from altair<6,>=4.0->streamlit) (3.1.4)\n",
      "Requirement already satisfied: jsonschema>=3.0 in c:\\users\\hp\\anaconda3\\lib\\site-packages (from altair<6,>=4.0->streamlit) (4.23.0)\n",
      "Requirement already satisfied: toolz in c:\\users\\hp\\anaconda3\\lib\\site-packages (from altair<6,>=4.0->streamlit) (0.12.0)\n",
      "Requirement already satisfied: idna>=2.8 in c:\\users\\hp\\anaconda3\\lib\\site-packages (from anyio<5.0.0,>=4.8.0->google-genai) (3.7)\n",
      "Requirement already satisfied: sniffio>=1.1 in c:\\users\\hp\\anaconda3\\lib\\site-packages (from anyio<5.0.0,>=4.8.0->google-genai) (1.3.0)\n",
      "Requirement already satisfied: colorama in c:\\users\\hp\\anaconda3\\lib\\site-packages (from click<9,>=7.0->streamlit) (0.4.6)\n",
      "Requirement already satisfied: gitdb<5,>=4.0.1 in c:\\users\\hp\\anaconda3\\lib\\site-packages (from gitpython!=3.1.19,<4,>=3.0.7->streamlit) (4.0.7)\n",
      "Requirement already satisfied: pyasn1-modules>=0.2.1 in c:\\users\\hp\\anaconda3\\lib\\site-packages (from google-auth<3.0.0,>=2.14.1->google-genai) (0.2.8)\n",
      "Requirement already satisfied: rsa<5,>=3.1.4 in c:\\users\\hp\\anaconda3\\lib\\site-packages (from google-auth<3.0.0,>=2.14.1->google-genai) (4.9.1)\n",
      "Requirement already satisfied: certifi in c:\\users\\hp\\anaconda3\\lib\\site-packages (from httpx<1.0.0,>=0.28.1->google-genai) (2025.1.31)\n",
      "Requirement already satisfied: httpcore==1.* in c:\\users\\hp\\anaconda3\\lib\\site-packages (from httpx<1.0.0,>=0.28.1->google-genai) (1.0.2)\n",
      "Requirement already satisfied: h11<0.15,>=0.13 in c:\\users\\hp\\anaconda3\\lib\\site-packages (from httpcore==1.*->httpx<1.0.0,>=0.28.1->google-genai) (0.14.0)\n",
      "Requirement already satisfied: python-dateutil>=2.8.2 in c:\\users\\hp\\anaconda3\\lib\\site-packages (from pandas<3,>=1.3.0->streamlit) (2.9.0.post0)\n",
      "Requirement already satisfied: pytz>=2020.1 in c:\\users\\hp\\anaconda3\\lib\\site-packages (from pandas<3,>=1.3.0->streamlit) (2024.1)\n",
      "Requirement already satisfied: tzdata>=2022.7 in c:\\users\\hp\\anaconda3\\lib\\site-packages (from pandas<3,>=1.3.0->streamlit) (2023.3)\n",
      "Requirement already satisfied: annotated-types>=0.4.0 in c:\\users\\hp\\anaconda3\\lib\\site-packages (from pydantic<3.0.0,>=2.0.0->google-genai) (0.6.0)\n",
      "Requirement already satisfied: pydantic-core==2.20.1 in c:\\users\\hp\\anaconda3\\lib\\site-packages (from pydantic<3.0.0,>=2.0.0->google-genai) (2.20.1)\n",
      "Requirement already satisfied: charset-normalizer<4,>=2 in c:\\users\\hp\\anaconda3\\lib\\site-packages (from requests<3,>=2.27->streamlit) (3.3.2)\n",
      "Requirement already satisfied: urllib3<3,>=1.21.1 in c:\\users\\hp\\anaconda3\\lib\\site-packages (from requests<3,>=2.27->streamlit) (2.2.3)\n",
      "Requirement already satisfied: markdown-it-py>=2.2.0 in c:\\users\\hp\\anaconda3\\lib\\site-packages (from rich<14,>=10.14.0->streamlit) (2.2.0)\n",
      "Requirement already satisfied: pygments<3.0.0,>=2.13.0 in c:\\users\\hp\\anaconda3\\lib\\site-packages (from rich<14,>=10.14.0->streamlit) (2.15.1)\n",
      "Requirement already satisfied: smmap<5,>=3.0.1 in c:\\users\\hp\\anaconda3\\lib\\site-packages (from gitdb<5,>=4.0.1->gitpython!=3.1.19,<4,>=3.0.7->streamlit) (4.0.0)\n",
      "Requirement already satisfied: MarkupSafe>=2.0 in c:\\users\\hp\\anaconda3\\lib\\site-packages (from jinja2->altair<6,>=4.0->streamlit) (2.1.3)\n",
      "Requirement already satisfied: attrs>=22.2.0 in c:\\users\\hp\\anaconda3\\lib\\site-packages (from jsonschema>=3.0->altair<6,>=4.0->streamlit) (23.1.0)\n",
      "Requirement already satisfied: jsonschema-specifications>=2023.03.6 in c:\\users\\hp\\anaconda3\\lib\\site-packages (from jsonschema>=3.0->altair<6,>=4.0->streamlit) (2023.7.1)\n",
      "Requirement already satisfied: referencing>=0.28.4 in c:\\users\\hp\\anaconda3\\lib\\site-packages (from jsonschema>=3.0->altair<6,>=4.0->streamlit) (0.30.2)\n",
      "Requirement already satisfied: rpds-py>=0.7.1 in c:\\users\\hp\\anaconda3\\lib\\site-packages (from jsonschema>=3.0->altair<6,>=4.0->streamlit) (0.10.6)\n",
      "Requirement already satisfied: mdurl~=0.1 in c:\\users\\hp\\anaconda3\\lib\\site-packages (from markdown-it-py>=2.2.0->rich<14,>=10.14.0->streamlit) (0.1.0)\n",
      "Requirement already satisfied: pyasn1<0.5.0,>=0.4.6 in c:\\users\\hp\\anaconda3\\lib\\site-packages (from pyasn1-modules>=0.2.1->google-auth<3.0.0,>=2.14.1->google-genai) (0.4.8)\n",
      "Requirement already satisfied: six>=1.5 in c:\\users\\hp\\anaconda3\\lib\\site-packages (from python-dateutil>=2.8.2->pandas<3,>=1.3.0->streamlit) (1.16.0)\n"
     ]
    }
   ],
   "source": [
    "!pip install streamlit google-genai\n"
   ]
  },
  {
   "cell_type": "code",
   "execution_count": 15,
   "id": "2f41972b-ee7f-468d-baa9-0e70dd95061d",
   "metadata": {},
   "outputs": [
    {
     "name": "stdin",
     "output_type": "stream",
     "text": [
      "you:  hey\n"
     ]
    },
    {
     "name": "stdout",
     "output_type": "stream",
     "text": [
      "gemini:Hey there! How can I help you today?\n",
      "\n"
     ]
    },
    {
     "name": "stdin",
     "output_type": "stream",
     "text": [
      "you:  what is ai avs gen ai only 3 bullets answer\n"
     ]
    },
    {
     "name": "stdout",
     "output_type": "stream",
     "text": [
      "gemini:Here are three bullet points explaining \"AI AVS Gen AI\":\n",
      "\n",
      "*   **AI (Artificial Intelligence)**: This is the broad scientific field dedicated to creating machines that can simulate human cognitive functions like learning, problem-solving, perception, and decision-making.\n",
      "*   **Gen AI (Generative AI)**: A specific, cutting-edge subset of AI that focuses on creating novel, original content—such as text, images, audio, or video—by learning patterns from vast datasets.\n",
      "*   **AVS (Potentially Audio, Video, Speech Systems)**: In this context, \"AVS\" often refers to AI applications and systems that specifically deal with multimedia modalities, which Generative AI excels at manipulating and creating (e.g., generating realistic voice, videos, or music).\n",
      "\n"
     ]
    },
    {
     "name": "stdin",
     "output_type": "stream",
     "text": [
      "you:  exit\n"
     ]
    },
    {
     "name": "stdout",
     "output_type": "stream",
     "text": [
      "goodbye\n"
     ]
    }
   ],
   "source": [
    "from google import genai\n",
    "\n",
    "gemini_key = \"YOUR GEMINI-API KEY\"\n",
    "client = genai.Client(api_key=gemini_key)\n",
    "\n",
    "chat_history = []\n",
    "\n",
    "while True:\n",
    "    user_input = input(\"you: \")\n",
    "    chat_history.append(f\"you:{user_input}\")\n",
    "\n",
    "    prompt = \"\\n\".join(chat_history) + \"Gemini:\"\n",
    "\n",
    "    if user_input.lower() == \"exit\":\n",
    "        print(\"goodbye\")\n",
    "        break\n",
    "\n",
    "    response = client.models.generate_content(\n",
    "        model=\"gemini-2.5-flash\",\n",
    "        contents=prompt,\n",
    "    )\n",
    "    reply = f\"gemini:{response.text}\\n\"\n",
    "    chat_history.append(reply)\n",
    "    print(reply)\n"
   ]
  },
  {
   "cell_type": "code",
   "execution_count": 16,
   "id": "dc4a05c5-9694-4e14-9655-3ecd30e5ce37",
   "metadata": {},
   "outputs": [
    {
     "name": "stdout",
     "output_type": "stream",
     "text": [
      "Overwriting chatbot_app.py\n"
     ]
    }
   ],
   "source": [
    "%%writefile chatbot_app.py\n",
    "import streamlit as st\n",
    "from google import genai\n",
    "\n",
    "gemini_key = \"YOUR GEMINI-API KEY\"\n",
    "client = genai.Client(api_key=gemini_key)\n",
    "\n",
    "st.set_page_config(page_title=\"Chatbot created by Disha\", page_icon=\"🤖\", layout=\"centered\")\n",
    "st.title(\"💬Chatbot created by Disha \")\n",
    "\n",
    "if \"chat_history\" not in st.session_state:\n",
    "    st.session_state.chat_history = []\n",
    "\n",
    "for msg in st.session_state.chat_history:\n",
    "    role, content = msg.split(\":\", 1)\n",
    "    with st.chat_message(role.strip().lower()):\n",
    "        st.markdown(content.strip())\n",
    "\n",
    "if user_input := st.chat_input(\"Type your message...\"):\n",
    "    st.session_state.chat_history.append(f\"you:{user_input}\")\n",
    "\n",
    "    with st.chat_message(\"user\"):\n",
    "        st.markdown(user_input)\n",
    "\n",
    "    prompt = \"\\n\".join(st.session_state.chat_history) + \"Gemini:\"\n",
    "\n",
    "    with st.chat_message(\"assistant\"):\n",
    "        with st.spinner(\"Thinking...\"):\n",
    "            response = client.models.generate_content(\n",
    "                model=\"gemini-2.5-flash\",\n",
    "                contents=prompt,\n",
    "            )\n",
    "            reply = response.text\n",
    "            st.markdown(reply)\n",
    "\n",
    "    st.session_state.chat_history.append(f\"gemini:{reply}\")\n"
   ]
  },
  {
   "cell_type": "code",
   "execution_count": 17,
   "id": "2102c751-8b0b-49e5-9e71-b73804238bf7",
   "metadata": {},
   "outputs": [],
   "source": [
    "!streamlit run chatbot_app.py\n",
    "#this directly opens our application if we use jupyter notebook, instead if we need url ,we open terminal and there write this "
   ]
  }
 ],
 "metadata": {
  "kernelspec": {
   "display_name": "Python [conda env:base] *",
   "language": "python",
   "name": "conda-base-py"
  },
  "language_info": {
   "codemirror_mode": {
    "name": "ipython",
    "version": 3
   },
   "file_extension": ".py",
   "mimetype": "text/x-python",
   "name": "python",
   "nbconvert_exporter": "python",
   "pygments_lexer": "ipython3",
   "version": "3.12.7"
  }
 },
 "nbformat": 4,
 "nbformat_minor": 5
}
